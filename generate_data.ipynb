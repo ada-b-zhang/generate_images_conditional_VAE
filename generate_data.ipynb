{
 "cells": [
  {
   "cell_type": "markdown",
   "id": "fc1fd173",
   "metadata": {},
   "source": [
    "<div style=\"background-color:#d1a8ed; color: black; border: 5px solid#9038b5; padding: 10px;\">\n",
    "  <h1>Introduction</h1>\n",
    "    Generate data for `sketch2clipart` project.  \n",
    "    Data comes from the <a href=\"https://www.kaggle.com/datasets/vishesh1211/clipart?resource=download-directory\" target=\"_blank\">Kaggle Clipart Dataset</a>\n",
    "</div>"
   ]
  },
  {
   "cell_type": "code",
   "execution_count": 1,
   "id": "f6b373bf",
   "metadata": {},
   "outputs": [],
   "source": [
    "import cv2\n",
    "import os \n",
    "from tqdm import tqdm"
   ]
  },
  {
   "cell_type": "code",
   "execution_count": null,
   "id": "6ac5f611",
   "metadata": {},
   "outputs": [
    {
     "name": "stderr",
     "output_type": "stream",
     "text": [
      "100%|██████████| 48833/48833 [01:27<00:00, 557.50it/s]"
     ]
    },
    {
     "name": "stdout",
     "output_type": "stream",
     "text": [
      "Finished generating data!\n"
     ]
    },
    {
     "name": "stderr",
     "output_type": "stream",
     "text": [
      "\n"
     ]
    }
   ],
   "source": [
    "path2clipart = 'data/clipart'\n",
    "clips = [clip for clip in os.listdir(path2clipart) if clip.endswith('jpg')]\n",
    "for clip in tqdm(clips): \n",
    "    num = clip.split('clipart')[1].split('.')[0]\n",
    "\n",
    "    pic = cv2.imread(f'{path2clipart}/{clip}')\n",
    "    gray = cv2.cvtColor(pic, cv2.COLOR_BGR2GRAY)\n",
    "    edges = cv2.Canny(gray, 50, 150)\n",
    "\n",
    "    # cv2.imwrite(f'data/sketch/sketch{num}.png', edges)\n",
    "\n",
    "print('Finished generating data!')"
   ]
  },
  {
   "cell_type": "code",
   "execution_count": null,
   "id": "0c24a4af",
   "metadata": {},
   "outputs": [],
   "source": []
  }
 ],
 "metadata": {
  "kernelspec": {
   "display_name": "deep_learn_310",
   "language": "python",
   "name": "python3"
  },
  "language_info": {
   "codemirror_mode": {
    "name": "ipython",
    "version": 3
   },
   "file_extension": ".py",
   "mimetype": "text/x-python",
   "name": "python",
   "nbconvert_exporter": "python",
   "pygments_lexer": "ipython3",
   "version": "3.10.16"
  }
 },
 "nbformat": 4,
 "nbformat_minor": 5
}
